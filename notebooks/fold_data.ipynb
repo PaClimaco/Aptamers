{
 "cells": [
  {
   "cell_type": "code",
   "execution_count": 2,
   "metadata": {},
   "outputs": [],
   "source": [
    "import sys\n",
    "import pandas as pd\n",
    "sys.path.append(r'..\\src')\n",
    "import numpy as np\n",
    "from GMfold import gmfold, gm_dot_bracket, gm_s_matrix\n",
    "from tqdm import tqdm\n",
    "import time"
   ]
  },
  {
   "cell_type": "markdown",
   "metadata": {},
   "source": [
    "# Load and process data"
   ]
  },
  {
   "cell_type": "code",
   "execution_count": 3,
   "metadata": {},
   "outputs": [
    {
     "name": "stdout",
     "output_type": "stream",
     "text": [
      "4933\n",
      "Amount of unique sequences in the dataset: 4450\n",
      "max length: 83\n",
      "min length: 33\n"
     ]
    }
   ],
   "source": [
    "# load sequences\n",
    "df = pd.read_csv(r'..\\data\\published_clean_files\\merged_clean_data.csv')\n",
    "print(len(df))\n",
    "# Filter the DataFrame to keep only sequences with lengths between the 5th and 95th percentiles\n",
    "percentile_95 = np.percentile(df['Sequence'].apply(len), 95) \n",
    "percentile_5 = np.percentile(df['Sequence'].apply(len), 5)\n",
    "df = df[df['Sequence'].apply(len).between(np.floor(percentile_5)+1, np.ceil(percentile_95))]\n",
    "df = df.reset_index(drop=True)\n",
    "print('Amount of unique sequences in the dataset:', len(df))\n",
    "lengths = df['Sequence'].apply(len)\n",
    "max_length = lengths.max()\n",
    "print('max length:', lengths.max())\n",
    "print('min length:', lengths.min())"
   ]
  },
  {
   "cell_type": "code",
   "execution_count": 8,
   "metadata": {},
   "outputs": [
    {
     "name": "stderr",
     "output_type": "stream",
     "text": [
      "4450it [02:09, 34.46it/s]\n"
     ]
    },
    {
     "data": {
      "text/html": [
       "<div>\n",
       "<style scoped>\n",
       "    .dataframe tbody tr th:only-of-type {\n",
       "        vertical-align: middle;\n",
       "    }\n",
       "\n",
       "    .dataframe tbody tr th {\n",
       "        vertical-align: top;\n",
       "    }\n",
       "\n",
       "    .dataframe thead th {\n",
       "        text-align: right;\n",
       "    }\n",
       "</style>\n",
       "<table border=\"1\" class=\"dataframe\">\n",
       "  <thead>\n",
       "    <tr style=\"text-align: right;\">\n",
       "      <th></th>\n",
       "      <th>Energy</th>\n",
       "      <th>time</th>\n",
       "      <th>Sequence</th>\n",
       "      <th>Count</th>\n",
       "      <th>File</th>\n",
       "      <th>d_b</th>\n",
       "      <th>faces</th>\n",
       "      <th>energy_faces</th>\n",
       "      <th>s_matrix</th>\n",
       "    </tr>\n",
       "  </thead>\n",
       "  <tbody>\n",
       "    <tr>\n",
       "      <th>0</th>\n",
       "      <td>1.5</td>\n",
       "      <td>0.020875</td>\n",
       "      <td>ACGACGGGGCACATTGTGCTGTTCATCTGTTCCGCAGGAGAGTCGT</td>\n",
       "      <td>77352</td>\n",
       "      <td>N48 after 13th</td>\n",
       "      <td>(((((...((((...))))............((...))...)))))</td>\n",
       "      <td>[STACK:AC/TG, STACK:CG/GC, STACK:GA/CT, STACK:...</td>\n",
       "      <td>[-1.5, -2.2, -1.3, -1.5, 5.3, -2.2, -1.5, -1.5...</td>\n",
       "      <td>[[0, 0, 0, 0, 0, 0, 0, 0, 0, 0, 0, 0, 0, 0, 0,...</td>\n",
       "    </tr>\n",
       "    <tr>\n",
       "      <th>1</th>\n",
       "      <td>4.6</td>\n",
       "      <td>0.012468</td>\n",
       "      <td>ACGACCACCTAGGTATTCATGACCGTCTAGAGCTTTCATTGGTCGT</td>\n",
       "      <td>67049</td>\n",
       "      <td>N58 after 16th</td>\n",
       "      <td>(((((((...........((((.............)))))))))))</td>\n",
       "      <td>[STACK:AC/TG, STACK:CG/GC, STACK:GA/CT, STACK:...</td>\n",
       "      <td>[-1.5, -2.2, -1.3, -1.5, -1.8, -1.5, 4.9, -0.9...</td>\n",
       "      <td>[[0, 0, 0, 0, 0, 0, 0, 0, 0, 0, 0, 0, 0, 0, 0,...</td>\n",
       "    </tr>\n",
       "    <tr>\n",
       "      <th>2</th>\n",
       "      <td>1.5</td>\n",
       "      <td>0.015914</td>\n",
       "      <td>ACGACGGGGCACATTGTGCTATTCAGTTGTTCCGCAGGAGAGTCGT</td>\n",
       "      <td>48708</td>\n",
       "      <td>N58 after 12th</td>\n",
       "      <td>(((((...((((...))))............((...))...)))))</td>\n",
       "      <td>[STACK:AC/TG, STACK:CG/GC, STACK:GA/CT, STACK:...</td>\n",
       "      <td>[-1.5, -2.2, -1.3, -1.5, 5.3, -2.2, -1.5, -1.5...</td>\n",
       "      <td>[[0, 0, 0, 0, 0, 0, 0, 0, 0, 0, 0, 0, 0, 0, 0,...</td>\n",
       "    </tr>\n",
       "    <tr>\n",
       "      <th>3</th>\n",
       "      <td>1.5</td>\n",
       "      <td>0.016003</td>\n",
       "      <td>ACGACGGGGCACATTGTGCTGTCCATCTGTTCCGCAGGAGAGTCGT</td>\n",
       "      <td>28432</td>\n",
       "      <td>N58 after 16th</td>\n",
       "      <td>(((((...((((...))))............((...))...)))))</td>\n",
       "      <td>[STACK:AC/TG, STACK:CG/GC, STACK:GA/CT, STACK:...</td>\n",
       "      <td>[-1.5, -2.2, -1.3, -1.5, 5.3, -2.2, -1.5, -1.5...</td>\n",
       "      <td>[[0, 0, 0, 0, 0, 0, 0, 0, 0, 0, 0, 0, 0, 0, 0,...</td>\n",
       "    </tr>\n",
       "    <tr>\n",
       "      <th>4</th>\n",
       "      <td>2.4</td>\n",
       "      <td>0.014000</td>\n",
       "      <td>ACGACGGGGCACATTGTGCTGTTCACCTGTTCCGCAGGAGAGTCGT</td>\n",
       "      <td>12126</td>\n",
       "      <td>N48 after 9th</td>\n",
       "      <td>(((((...((((...))))...((.((((.....)))).)))))))</td>\n",
       "      <td>[STACK:AC/TG, STACK:CG/GC, STACK:GA/CT, STACK:...</td>\n",
       "      <td>[-1.5, -2.2, -1.3, -1.5, 4.1, -2.2, -1.5, -1.5...</td>\n",
       "      <td>[[0, 0, 0, 0, 0, 0, 0, 0, 0, 0, 0, 0, 0, 0, 0,...</td>\n",
       "    </tr>\n",
       "  </tbody>\n",
       "</table>\n",
       "</div>"
      ],
      "text/plain": [
       "   Energy      time                                        Sequence  Count  \\\n",
       "0     1.5  0.020875  ACGACGGGGCACATTGTGCTGTTCATCTGTTCCGCAGGAGAGTCGT  77352   \n",
       "1     4.6  0.012468  ACGACCACCTAGGTATTCATGACCGTCTAGAGCTTTCATTGGTCGT  67049   \n",
       "2     1.5  0.015914  ACGACGGGGCACATTGTGCTATTCAGTTGTTCCGCAGGAGAGTCGT  48708   \n",
       "3     1.5  0.016003  ACGACGGGGCACATTGTGCTGTCCATCTGTTCCGCAGGAGAGTCGT  28432   \n",
       "4     2.4  0.014000  ACGACGGGGCACATTGTGCTGTTCACCTGTTCCGCAGGAGAGTCGT  12126   \n",
       "\n",
       "             File                                             d_b  \\\n",
       "0  N48 after 13th  (((((...((((...))))............((...))...)))))   \n",
       "1  N58 after 16th  (((((((...........((((.............)))))))))))   \n",
       "2  N58 after 12th  (((((...((((...))))............((...))...)))))   \n",
       "3  N58 after 16th  (((((...((((...))))............((...))...)))))   \n",
       "4   N48 after 9th  (((((...((((...))))...((.((((.....)))).)))))))   \n",
       "\n",
       "                                               faces  \\\n",
       "0  [STACK:AC/TG, STACK:CG/GC, STACK:GA/CT, STACK:...   \n",
       "1  [STACK:AC/TG, STACK:CG/GC, STACK:GA/CT, STACK:...   \n",
       "2  [STACK:AC/TG, STACK:CG/GC, STACK:GA/CT, STACK:...   \n",
       "3  [STACK:AC/TG, STACK:CG/GC, STACK:GA/CT, STACK:...   \n",
       "4  [STACK:AC/TG, STACK:CG/GC, STACK:GA/CT, STACK:...   \n",
       "\n",
       "                                        energy_faces  \\\n",
       "0  [-1.5, -2.2, -1.3, -1.5, 5.3, -2.2, -1.5, -1.5...   \n",
       "1  [-1.5, -2.2, -1.3, -1.5, -1.8, -1.5, 4.9, -0.9...   \n",
       "2  [-1.5, -2.2, -1.3, -1.5, 5.3, -2.2, -1.5, -1.5...   \n",
       "3  [-1.5, -2.2, -1.3, -1.5, 5.3, -2.2, -1.5, -1.5...   \n",
       "4  [-1.5, -2.2, -1.3, -1.5, 4.1, -2.2, -1.5, -1.5...   \n",
       "\n",
       "                                            s_matrix  \n",
       "0  [[0, 0, 0, 0, 0, 0, 0, 0, 0, 0, 0, 0, 0, 0, 0,...  \n",
       "1  [[0, 0, 0, 0, 0, 0, 0, 0, 0, 0, 0, 0, 0, 0, 0,...  \n",
       "2  [[0, 0, 0, 0, 0, 0, 0, 0, 0, 0, 0, 0, 0, 0, 0,...  \n",
       "3  [[0, 0, 0, 0, 0, 0, 0, 0, 0, 0, 0, 0, 0, 0, 0,...  \n",
       "4  [[0, 0, 0, 0, 0, 0, 0, 0, 0, 0, 0, 0, 0, 0, 0,...  "
      ]
     },
     "execution_count": 8,
     "metadata": {},
     "output_type": "execute_result"
    }
   ],
   "source": [
    "# For each of the sequences in the dataset compute the secondary structure, faces and associated energies and structural matrix\n",
    "d_y= { 'Energy': [], 'time': [], 'Sequence': [] , 'Count': [], 'File':[], 'd_b': [], 'faces': [], 'energy_faces': [], 's_matrix':[]}\n",
    "for count, seq in tqdm(enumerate(df['Sequence'])):\n",
    "        start_time = time.time()\n",
    "        structs = gmfold(seq, l_fix =5)\n",
    "        d_y['time'].append(time.time()-start_time)\n",
    "        sss = 0\n",
    "        for s in structs:     \n",
    "            sss =s.e\n",
    "        d_b = gm_dot_bracket( seq, structs)\n",
    "        d_y['faces'].append([s.desc for s in structs])\n",
    "        d_y['energy_faces'].append([s.e for s in structs])\n",
    "        d_y['Energy'].append(sss)\n",
    "        d_y['Sequence'].append(seq)\n",
    "        d_y['Count'].append(df['Count'][count])\n",
    "        d_y['File'].append(df['File'][count])\n",
    "        d_y['d_b'].append(d_b)\n",
    "        d_y['s_matrix'].append(gm_s_matrix(seq, structs, max_length).tolist())\n",
    "df2 = pd.DataFrame(d_y)\n",
    "df2.to_csv(r'.\\test_fold_published.csv', index=False)\n",
    "df2.head()\n"
   ]
  },
  {
   "cell_type": "code",
   "execution_count": 4,
   "metadata": {},
   "outputs": [
    {
     "name": "stdout",
     "output_type": "stream",
     "text": [
      "[] [] []\n"
     ]
    }
   ],
   "source": [
    "#check that the sequences, associated secondary structures and per face energies in the generated file are the same as those used for the experiments\n",
    "# in the file fold_published.csv. This check is check is done because order of the sequences within the files may be different.\n",
    "df1 = pd.read_csv(r'../data/fold_published.csv')\n",
    "df2 = pd.read_csv(r'.\\test_fold_published.csv')\n",
    "error = []\n",
    "error1 =[]\n",
    "error2 = []\n",
    "for i in range(len(df1)-1):\n",
    "    if (df1['d_b'][i] != df2['d_b'].loc[df2['Sequence']== df1['Sequence'][i]]).values[0]:\n",
    "        error.append(i)\n",
    "    if (df1['faces'][i] != df2['faces'].loc[df2['Sequence']== df1['Sequence'][i]]).values[0]:\n",
    "        error1.append(i)\n",
    "    if (df1['energy_faces'][i] != df2['energy_faces'].loc[df2['Sequence']== df1['Sequence'][i]]).values[0]:\n",
    "        error2.append(i)\n",
    "print(error, error1,  error2 )"
   ]
  }
 ],
 "metadata": {
  "kernelspec": {
   "display_name": "aptamers_fold",
   "language": "python",
   "name": "python3"
  },
  "language_info": {
   "codemirror_mode": {
    "name": "ipython",
    "version": 3
   },
   "file_extension": ".py",
   "mimetype": "text/x-python",
   "name": "python",
   "nbconvert_exporter": "python",
   "pygments_lexer": "ipython3",
   "version": "3.12.3"
  }
 },
 "nbformat": 4,
 "nbformat_minor": 2
}
