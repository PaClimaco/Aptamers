{
 "cells": [
  {
   "cell_type": "code",
   "execution_count": 2,
   "metadata": {},
   "outputs": [],
   "source": [
    "import pandas as pd\n",
    "import os, sys\n",
    "sys.path.append(r'..\\src')\n",
    "from utils import check_char, check_if_string, check_structure, check_empty_or_short, find_substrings,  attach_stems\n",
    "import pandas as pd\n",
    "\n",
    "path = r'..\\data\\Raw_files'\n",
    "# Replace 'file_path.xlsx' with the path to your Excel file\n",
    "file_paths = ['N48 after 9th',\n",
    "              'N48 after 13th',\n",
    "              'N58 after 12th',\n",
    "              'N58 after 16th']\n"
   ]
  },
  {
   "cell_type": "markdown",
   "metadata": {},
   "source": [
    "## Including intial ACGAC and final GTCGT to force base pair _ _ _ _sequence_ _ _ _ --->  ACGACsequenceGTCGT "
   ]
  },
  {
   "cell_type": "code",
   "execution_count": 3,
   "metadata": {},
   "outputs": [
    {
     "name": "stdout",
     "output_type": "stream",
     "text": [
      "N48 after 9th\n",
      "Number of provided structures: 7819\n",
      "Number of sequences removed without ___Nxx___ structure or with less than 20 randomized nucleotides: 3116\n",
      "Number of sequences with invalid character: 271\n",
      "Number of structures after preprocessing: 4432\n",
      "N48 after 13th\n",
      "Number of provided structures: 3776\n",
      "Number of sequences removed without ___Nxx___ structure or with less than 20 randomized nucleotides: 1928\n",
      "Number of sequences with invalid character: 184\n",
      "Number of structures after preprocessing: 1664\n",
      "N58 after 12th\n",
      "Number of provided structures: 2665\n",
      "Number of sequences removed without ___Nxx___ structure or with less than 20 randomized nucleotides: 754\n",
      "Number of sequences with invalid character: 181\n",
      "Number of structures after preprocessing: 1730\n",
      "N58 after 16th\n",
      "Number of provided structures: 2371\n",
      "Number of sequences removed without ___Nxx___ structure or with less than 20 randomized nucleotides: 806\n",
      "Number of sequences with invalid character: 260\n",
      "Number of structures after preprocessing: 1305\n"
     ]
    }
   ],
   "source": [
    "tres = 20        \n",
    "for file in file_paths:\n",
    "    print(f'{file}')\n",
    "    # Read the Excel file into a Pandas DataFrame\n",
    "    df = pd.read_excel(os.path.join(path, file+'.xlsx' ), header= 1)\n",
    "    # Filter the DataFrame based on the 'Sequence' column using the check_structure function (ORDER of filters is important)\n",
    "    len1 = len(df)\n",
    "    df = df[df['Sequence'].apply(lambda x: check_if_string(x))]\n",
    "    df = df[df['Sequence'].apply(lambda x: check_structure(x))]\n",
    "    df['Sequence'] = df['Sequence'].apply(lambda x: find_substrings(x))\n",
    "    df = df[df['Sequence'].apply(lambda x: check_empty_or_short(x, threshold= tres))]\n",
    "    len2 = len(df)\n",
    "    df['Sequence'] = df['Sequence'].apply(lambda x: attach_stems(x, 'ACGAC', 'GTCGT'))\n",
    "    df = df[df['Sequence'].apply(lambda x: check_char(x))]\n",
    "    len3 = len(df)\n",
    "    df = df.reset_index(drop=True)\n",
    "    # Display the resulting DataFrame\n",
    "    print( 'Number of provided structures:', len1)\n",
    "    print( f'Number of sequences removed without ___Nxx___ structure or with less than {tres} randomized nucleotides:', len1 - len2)\n",
    "    print( 'Number of sequences with invalid character:', len2 - len3)\n",
    "    print( 'Number of structures after preprocessing:', len3)\n",
    "    df = df.drop_duplicates(subset='Sequence')\n",
    "    df = df.reset_index()\n",
    "    df['File'] = [f'{file}']*len(df)\n",
    "   "
   ]
  },
  {
   "cell_type": "code",
   "execution_count": 16,
   "metadata": {},
   "outputs": [
    {
     "name": "stdout",
     "output_type": "stream",
     "text": [
      "Published_Preprocessed_N48 after 13th.csv\n",
      "Published_Preprocessed_N48 after 9th.csv\n",
      "Published_Preprocessed_N58 after 12th.csv\n",
      "Published_Preprocessed_N58 after 16th.csv\n"
     ]
    }
   ],
   "source": [
    "import os\n",
    "import pandas as pd\n",
    "\n",
    "# Folder containing the CSV files\n",
    "folder_path = r'..\\data/published_clean_files/'\n",
    "\n",
    "# List to store each CSV file as a DataFrame\n",
    "data_frames = []\n",
    "\n",
    "# Iterate through all files in the folder\n",
    "for file_name in os.listdir(folder_path):\n",
    "    if file_name.endswith('.csv') and file_name.startswith('Published'):\n",
    "        print(file_name)\n",
    "        file_path = os.path.join(folder_path, file_name)\n",
    "        # Read the CSV file and append it to the list\n",
    "        data_frames.append(pd.read_csv(file_path))\n",
    "\n",
    "# Concatenate all DataFrames in the list into a single DataFrame\n",
    "merged_df = pd.concat(data_frames, ignore_index=True)\n",
    "merged_df = merged_df.sort_values(by='Count', ascending=False).drop_duplicates(subset='Sequence', keep='first')\n",
    "#merged_df.reset_index()"
   ]
  },
  {
   "cell_type": "markdown",
   "metadata": {},
   "source": [
    "# Removing initial and final \"____ \": _ _ _ sequence _ _ _ _ ----> sequence"
   ]
  },
  {
   "cell_type": "code",
   "execution_count": null,
   "metadata": {},
   "outputs": [],
   "source": [
    "tres = 20        \n",
    "for file in file_paths:\n",
    "    print(f'{file}')\n",
    "    # Read the Excel file into a Pandas DataFrame\n",
    "    df = pd.read_excel(os.path.join(path, file+'.xlsx' ), header= 1)\n",
    "    # Filter the DataFrame based on the 'Sequence' column using the check_structure function (ORDER of filters is important)\n",
    "    len1 = len(df)\n",
    "    df = df[df['Sequence'].apply(lambda x: check_if_string(x))]\n",
    "    df = df[df['Sequence'].apply(lambda x: check_structure(x))]\n",
    "    df['Sequence'] = df['Sequence'].apply(lambda x: find_substrings(x))\n",
    "    df = df[df['Sequence'].apply(lambda x: check_empty_or_short(x, threshold= tres))]\n",
    "    len2 = len(df)\n",
    "    df['Sequence'] = df['Sequence'].apply(lambda x: attach_stems(x))\n",
    "    df = df[df['Sequence'].apply(lambda x: check_char(x))]\n",
    "    len3 = len(df)\n",
    "    df = df.reset_index(drop=True)\n",
    "    # Display the resulting DataFrame\n",
    "    print( 'Number of provided structures:', len1)\n",
    "    print( f'Number of sequences removed without ___Nxx___ structure or with less than {tres} randomized nucleotides:', len1 - len2)\n",
    "    print( 'Number of sequences with invalid character:', len2 - len3)\n",
    "    print( 'Number of structures after preprocessing:', len3)\n",
    "    df.to_csv(f'Preprocessed_{file}.csv', index=False)\n",
    "    "
   ]
  }
 ],
 "metadata": {
  "kernelspec": {
   "display_name": "aptamers",
   "language": "python",
   "name": "python3"
  },
  "language_info": {
   "codemirror_mode": {
    "name": "ipython",
    "version": 3
   },
   "file_extension": ".py",
   "mimetype": "text/x-python",
   "name": "python",
   "nbconvert_exporter": "python",
   "pygments_lexer": "ipython3",
   "version": "3.12.3"
  }
 },
 "nbformat": 4,
 "nbformat_minor": 2
}
