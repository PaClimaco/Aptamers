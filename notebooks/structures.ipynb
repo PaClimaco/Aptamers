{
 "cells": [
  {
   "cell_type": "code",
   "execution_count": 17,
   "metadata": {},
   "outputs": [],
   "source": [
    "\n",
    "import sys\n",
    "import pandas as pd\n",
    "sys.path.append(r'C:\\Users\\clima\\Desktop\\Aptamers\\src')\n",
    "import numpy as np\n",
    "import forgi.visual.mplotlib as fvm\n",
    "from forgi.graph.bulge_graph import BulgeGraph\n",
    "import matplotlib.pyplot as plt\n",
    "from minimization import ty_fold\n",
    "import time\n",
    "from seqfold import fold, dot_bracket\n",
    "df = pd.read_csv(r'C:\\Users\\clima\\Desktop\\Aptamers\\data\\preprocessed _files\\merged.csv')"
   ]
  },
  {
   "cell_type": "code",
   "execution_count": 27,
   "metadata": {},
   "outputs": [],
   "source": [
    "df = df.drop_duplicates(subset='Sequence')\n",
    "df = df.reset_index()"
   ]
  },
  {
   "cell_type": "code",
   "execution_count": null,
   "metadata": {},
   "outputs": [],
   "source": []
  }
 ],
 "metadata": {
  "kernelspec": {
   "display_name": "aptamers_fold",
   "language": "python",
   "name": "python3"
  },
  "language_info": {
   "codemirror_mode": {
    "name": "ipython",
    "version": 3
   },
   "file_extension": ".py",
   "mimetype": "text/x-python",
   "name": "python",
   "nbconvert_exporter": "python",
   "pygments_lexer": "ipython3",
   "version": "3.12.3"
  }
 },
 "nbformat": 4,
 "nbformat_minor": 2
}
